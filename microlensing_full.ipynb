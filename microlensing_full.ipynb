{
 "cells": [
  {
   "cell_type": "markdown",
   "metadata": {},
   "source": [
    "# Welcome to the microlensing data challenge tutorial\n",
    "\n",
    "This notebook is intended to provide the framework for non-microlensers to participate in the challenge. It requires installation of the pylima and mulensmodel modules. This combines two notebooks from the Sagan workshop for pyLIMA and muLens tutorial.\n"
   ]
  },
  {
   "cell_type": "code",
   "execution_count": 1,
   "metadata": {
    "collapsed": true
   },
   "outputs": [],
   "source": [
    "## First import the required libraries\n",
    "#%matplotlib notebook\n",
    "import numpy as np\n",
    "import scipy.optimize as op\n",
    "import matplotlib.pyplot as plt\n",
    "import astropy.units as u\n",
    "import os\n",
    "import sys\n",
    "import time\n",
    "from scipy.stats import chisquare\n",
    "from datetime import datetime\n",
    "start_time = datetime.now() # initialize timer\n",
    "\n",
    "sys.path.append('/Users/meshkat/python/pylima/pyLIMA-master')\n",
    "from pyLIMA import event\n",
    "from pyLIMA import telescopes\n",
    "from pyLIMA import microlmodels\n",
    "from pyLIMA import microlcaustics\n",
    "from pyLIMA import microltoolbox\n",
    "\n",
    "sys.path.append('/Users/meshkat/python/MulensModel/source')\n",
    "import MulensModel as mm\n",
    "from MulensModel.utils import Utils\n",
    "\n",
    "sys.path.append('/Users/meshkat/python/muLAn')\n",
    "from muLAn import mulan\n",
    "##Must copy contents of muLAn/template to the local directory you are running notebook in?\n",
    "\n",
    "\n",
    "#import check"
   ]
  },
  {
   "cell_type": "code",
   "execution_count": 2,
   "metadata": {
    "collapsed": true
   },
   "outputs": [],
   "source": [
    "#parameter definitions, same across all codes except for alpha\n",
    "to = 2460963.9\n",
    "uo = 0.45\n",
    "tE = 24.3\n",
    "rho = 0.007\n",
    "s = 10**0.198\n",
    "q = 10**-3.23\n",
    "alpha = -0.5 #######in radians\n",
    "\n",
    "log_s = np.log10(s)\n",
    "log_q = np.log10(q)\n",
    "\n",
    "# ***Set time range of planetary perturbation (including 2460000).***\n",
    "(t_anomaly_start, t_anomaly_stop) = (2460982., 2460985.)\n",
    "\n",
    "### time when the peak of the anomaly occurs (HJD)\n",
    "t_anomaly = 2460983.0\n",
    "\n",
    "### duration of the anomaly in days\n",
    "delta_t = 1\n",
    "\n",
    "###define path to file and filename\n",
    "filename = '/Users/meshkat/python/WFIRST/Microlensing/handson_2017/WFIRST_SAGAN_6/WFIRST_1827.dat'\n",
    "\n",
    "WFIRST_data = np.loadtxt(filename)\n",
    "where_inf=np.where(WFIRST_data==np.inf)\n",
    "WFIRST_data[where_inf]=np.mean((WFIRST_data[where_inf[0][0]-1,where_inf[1][0]],\n",
    "                                WFIRST_data[where_inf[0][0]+1,where_inf[1][0]]))"
   ]
  },
  {
   "cell_type": "code",
   "execution_count": null,
   "metadata": {
    "collapsed": true
   },
   "outputs": [],
   "source": [
    "# def goodness_of_fit(data, model):\n",
    "#     \"\"\"Find the goodness of fit for the data vs the model\"\"\"\n",
    "    \n",
    "#     model_diff = (data - model) ** 2\n",
    "# #     for i,g in enumerate(model_diff):\n",
    "# #         if g==np.inf: model_diff[i]=np.nan\n",
    "#     model_diff2=(data - model) ** 2 / model\n",
    "#     gof=np.nansum(model_diff)/model_diff.shape[0]\n",
    "#     gof2=np.nansum(model_diff2)\n",
    "    \n",
    "#     return gof, gof2"
   ]
  },
  {
   "cell_type": "markdown",
   "metadata": {},
   "source": [
    "# Pylima"
   ]
  },
  {
   "cell_type": "code",
   "execution_count": 3,
   "metadata": {
    "collapsed": true
   },
   "outputs": [],
   "source": [
    "### Plot the event. Select the rectangle to zoom in and inspect the details.\n",
    "### Note the approximate peak of the planet perturbation in HJD\n",
    "### you will have to change the file path for your machine.\n",
    "\n",
    "\n",
    "### Lets have a look at what it is exactly :\n",
    "figure1 = plt.figure()\n",
    "plt.errorbar(WFIRST_data[:,0]-2460000,WFIRST_data[:,1],yerr = WFIRST_data[:,2],fmt='.k')\n",
    "plt.xlabel('HJD-2460000',fontsize=20)\n",
    "plt.ylabel('MAG',fontsize=20)\n",
    "plt.gca().invert_yaxis()\n",
    "figure1.show()\n"
   ]
  },
  {
   "cell_type": "code",
   "execution_count": 4,
   "metadata": {},
   "outputs": [
    {
     "data": {
      "image/png": "[encoded data removed]",
      "text/plain": [
       "<matplotlib.figure.Figure at 0x1176437d0>"
      ]
     },
     "metadata": {},
     "output_type": "display_data"
    },
    {
     "data": {
      "image/png": "[encoded data removed]",
      "text/plain": [
       "<matplotlib.figure.Figure at 0x11e255550>"
      ]
     },
     "metadata": {},
     "output_type": "display_data"
    }
   ],
   "source": [
    "### \n",
    "\n",
    "\n",
    "### Create an event object. You can choose the name :\n",
    "\n",
    "pl_event = event.Event()\n",
    "\n",
    "###****CHANGE****###\n",
    "pl_event.name = 'WFIRST_1827'\n",
    "\n",
    "### We define a telescope object.\n",
    "wfirst = telescopes.Telescope(name='WFIRST', camera_filter='W149', light_curve_magnitude=WFIRST_data)\n",
    "###****ENDOFCHANGE****###\n",
    "\n",
    "\n",
    "pl_event.telescopes.append(wfirst)\n",
    "\n",
    "### Let's define a binary model, name in pyLIMA is Uniform Source Binary Lens.\n",
    "\n",
    "binary_model = microlmodels.create_model('USBL', pl_event)\n",
    "binary_model.define_model_parameters()\n",
    "\n",
    "### Have a look at your guess. Change these parameters if you want \n",
    "estimate_parameters = [to, uo, tE, rho, np.log10(s), np.log10(q), alpha]\n",
    "\n",
    "pyLIMA_parameters = binary_model.compute_pyLIMA_parameters(estimate_parameters)\n",
    "\n",
    "\n",
    "pl_model, wfirst_source_flux, wfirst_blend_flux = binary_model.compute_the_microlensing_model(wfirst, pyLIMA_parameters)\n",
    "model_in_magnitude = microltoolbox.flux_to_magnitude(pl_model)  \n",
    "\n",
    "\n",
    "plt.figure()\n",
    "plt.subplot(111)\n",
    "plt.errorbar(WFIRST_data[:,0]-2460000,WFIRST_data[:,1],yerr = WFIRST_data[:,2],fmt='.k')\n",
    "plt.gca().invert_yaxis()\n",
    "plt.plot(wfirst.lightcurve_flux[:,0]-2460000, model_in_magnitude,zorder=10)\n",
    "plt.show()\n"
   ]
  },
  {
   "cell_type": "code",
   "execution_count": 5,
   "metadata": {
    "collapsed": true
   },
   "outputs": [],
   "source": [
    "chi_sq_pylima,_=chisquare(WFIRST_data[:-1,1], f_exp=model_in_magnitude)"
   ]
  },
  {
   "cell_type": "code",
   "execution_count": 6,
   "metadata": {
    "collapsed": true
   },
   "outputs": [],
   "source": [
    "ModelID_pl='WFIRST_1827.dat_pylima' #Model ID containing both target ID and solution number e.g. [target]_[solution]\n",
    "t0_pl = 0#round(pl_event.fits[-1].outputs.fit_parameters.to,6) #Time of peak, t0 [days] - priority\n",
    "sig_t0_pl = 0#pl_event.fits[-1].outputs.fit_errors.err_to #Uncertainty in t0 [days] - priority\n",
    "tE_pl = 0#round(pl_event.fits[-1].outputs.fit_parameters.tE,6) #Einstein crossing time, tE [days] - priority\n",
    "sig_tE_pl = 0#pl_event.fits[-1].outputs.fit_errors.err_tE #Uncertainty in tE [days] - priority\n",
    "u0_pl = 0#round(pl_event.fits[-1].outputs.fit_parameters.uo,6) #Minimum impact parameter, u0 [normalised by θE] - priority\n",
    "sig_u0_pl =  0#pl_event.fits[-1].outputs.fit_errors.err_uo #Uncertainty in u0 - priority\n",
    "rho_pl = 0#round(pl_event.fits[-1].outputs.fit_parameters.rho,6) #Angular source size parameter, rho\n",
    "sig_rho_pl = 0#pl_event.fits[-1].outputs.fit_errors.err_rho #Uncertainty on rho\n",
    "piEE_pl = 'None'  #Parallax parameter πE,E\n",
    "sig_piEE_pl = 'None'  #Uncertainty on πE,E\n",
    "piEN_pl = 'None'  #Parallax parameter πE,N\n",
    "sig_piEN_pl = 'None'  #Uncertainty on πE,N\n",
    "fs_pl = 0#round(pl_event.fits[-1].outputs.fit_parameters.fs_WFIRST,6) #Source flux, fs [counts/s] - priority\n",
    "sig_fs_pl = 0#pl_event.fits[-1].outputs.fit_errors.err_fs_WFIRST #Uncertainty in fs [counts/s] - priority\n",
    "fb_pl = 'None' #Blend flux, fb [counts/s] - priority\n",
    "sig_fb_pl = 'None' #Uncertainty in fb [counts/s] - priority\n",
    "s_pl = 0#10**(pl_event.fits[-1].outputs.fit_parameters.logs) #Binary separation, s, [normalised by θE] - priority\n",
    "sig_s_pl = 'None' #Uncertainty on s - priority\n",
    "q_pl = 0#10**(pl_event.fits[-1].outputs.fit_parameters.logq) #Mass ratio, q = M2/M1 - priority\n",
    "sig_q_pl = 'None' #Uncertainty on q - priority\n",
    "alpha_pl = 0#pl_event.fits[-1].outputs.fit_parameters.alpha #Angle of lens motion, alpha - priority\n",
    "sig_alpha_pl = 'None' #Uncertainty on alpha - priority\n",
    "dsdt_pl = 'None'  #Rate of change of s, ds/dt\n",
    "sig_dsdt_pl = 'None'  #Uncertainty on ds/dt\n",
    "dadt_pl =  'None' #Rate of change of alpha, dalpha/dt\n",
    "sig_dadt_pl = 'None'  #Uncertainty on dalpha/dt\n",
    "t0_par_pl = 'None'  #t0_par [days]\n",
    "chisq_pl = chi_sq_pylima #Chi squared of the fitted model\n",
    "M1_pl = 'None'  #Primary lens mass, M1 [Msolar]\n",
    "sig_M1_pl = 'None'  #Uncertainty on M1 [Msolar]\n",
    "M2_pl = 'None'  #Secondary lens mass, M2 [MJupiter] \n",
    "sig_M2_pl = 'None'  #Uncertainty on M2 [MJupiter] \n",
    "DL_pl = 'None'  #Distance to the lens, DL [kpc]\n",
    "sig_DL_pl = 'None'  #Uncertainty on DL [kpc]\n",
    "DS_pl = 'None'  #Distance to the source, DS [kpc]\n",
    "sig_DS_pl = 'None'  #Uncertainty on DS [kpc]\n",
    "aperp_pl = 'None'  #Projected separation of lens masses, aperp [AU]\n",
    "sig_aperp_pl = 'None'  #Uncertainty on aperp [AU]\n",
    "t_fit_pl = 'None' #Time taken to fit the lightcurve from data ingest to final output [hrs]"
   ]
  },
  {
   "cell_type": "markdown",
   "metadata": {},
   "source": [
    "# MulensModel"
   ]
  },
  {
   "cell_type": "code",
   "execution_count": 7,
   "metadata": {},
   "outputs": [
    {
     "data": {
      "image/png": "[encoded data removed]",
      "text/plain": [
       "<matplotlib.figure.Figure at 0x11d96b810>"
      ]
     },
     "metadata": {},
     "output_type": "display_data"
    }
   ],
   "source": [
    "### \n",
    "data = mm.MulensData(file_name=filename)\n",
    "\n",
    "plt.errorbar(data.time, data.mag, yerr=data.err_mag, fmt='o')\n",
    "plt.gca().invert_yaxis()\n",
    "plt.show()"
   ]
  },
  {
   "cell_type": "code",
   "execution_count": 8,
   "metadata": {
    "collapsed": true
   },
   "outputs": [],
   "source": [
    "\n",
    "\n",
    "# *Set the magnification methods for the planet model*\n",
    "# VBBL method will be used between t_planet_start and t_planet_stop, \n",
    "# and point_source_point_lens will be used everywhere else.\n",
    "magnification_methods = [\n",
    "    0., 'point_source_point_lens', \n",
    "    t_anomaly_start, 'VBBL', t_anomaly_stop, \n",
    "    'point_source_point_lens', 2470000.]"
   ]
  },
  {
   "cell_type": "code",
   "execution_count": null,
   "metadata": {
    "collapsed": true
   },
   "outputs": [],
   "source": []
  },
  {
   "cell_type": "code",
   "execution_count": 9,
   "metadata": {
    "collapsed": true
   },
   "outputs": [],
   "source": [
    "# Flag data related to the planet\n",
    "flag_planet = (data.time > t_anomaly_start) & (data.time < t_anomaly_stop) | np.isnan(data.err_mag)\n",
    "\n",
    "# Exclude those data from the fitting (for now)\n",
    "data.bad = flag_planet"
   ]
  },
  {
   "cell_type": "code",
   "execution_count": null,
   "metadata": {
    "collapsed": true
   },
   "outputs": [],
   "source": []
  },
  {
   "cell_type": "code",
   "execution_count": 10,
   "metadata": {},
   "outputs": [
    {
     "name": "stdout",
     "output_type": "stream",
     "text": [
      "    t_0 (HJD)       u_0    t_E (d)     rho         s            q alpha (deg) \n",
      "2460963.90000  0.450000    24.3000 0.00700   1.57761   0.00058884   -28.64789 \n",
      "\n"
     ]
    },
    {
     "data": {
      "image/png": "[encoded data removed]",
      "text/plain": [
       "<matplotlib.figure.Figure at 0x11d185f90>"
      ]
     },
     "metadata": {},
     "output_type": "display_data"
    }
   ],
   "source": [
    "# Check the estimated model\n",
    "# Note that there are two possibilities for s: s_plus and s_minus. \n",
    "\n",
    "\n",
    "# Define the model\n",
    "mlm_model = mm.Model({\n",
    "    't_0': to, \n",
    "    'u_0': uo,\n",
    "    't_E': tE,\n",
    "    'rho': rho,\n",
    "    's': s,\n",
    "    'q': q,\n",
    "    'alpha': np.rad2deg(alpha)})\n",
    "mlm_model.set_magnification_methods(magnification_methods)\n",
    "mlm_event = mm.Event(datasets=data, model=mlm_model)\n",
    "print(mlm_event.model)\n",
    "\n",
    "\n",
    "\n",
    "mlm_event.plot_data()\n",
    "plt.show()\n",
    "\n"
   ]
  },
  {
   "cell_type": "code",
   "execution_count": null,
   "metadata": {
    "collapsed": true
   },
   "outputs": [],
   "source": []
  },
  {
   "cell_type": "code",
   "execution_count": 11,
   "metadata": {},
   "outputs": [
    {
     "data": {
      "image/png": "[encoded data removed]",
      "text/plain": [
       "<matplotlib.figure.Figure at 0x11d1853d0>"
      ]
     },
     "metadata": {},
     "output_type": "display_data"
    }
   ],
   "source": [
    "times=WFIRST_data[:,0]\n",
    "\n",
    "\n",
    "mlm_event.get_chi2()\n",
    "flux = mlm_event.fit.get_flux(data)\n",
    "\n",
    "\n",
    "# (f_source, f_blend) = mlm_event.get_ref_fluxes(data_ref=mlm_event.data_ref)\n",
    "# flux = f_source * test_model.magnification(times) + f_blend\n",
    "\n",
    "\n",
    "model_in_magnitude0=Utils.get_mag_from_flux(flux)\n",
    "\n",
    "\n",
    "plt.figure()\n",
    "plt.subplot(111)\n",
    "plt.errorbar(WFIRST_data[:,0]-2460000,WFIRST_data[:,1],yerr = WFIRST_data[:,2],fmt='.k')\n",
    "plt.gca().invert_yaxis()\n",
    "plt.plot(times-2460000, model_in_magnitude0,zorder=10)\n",
    "plt.show()"
   ]
  },
  {
   "cell_type": "code",
   "execution_count": null,
   "metadata": {
    "collapsed": true
   },
   "outputs": [],
   "source": []
  },
  {
   "cell_type": "code",
   "execution_count": 12,
   "metadata": {
    "collapsed": true
   },
   "outputs": [],
   "source": [
    "# gof0,gof02=goodness_of_fit(WFIRST_data[:,1],model_in_magnitude0)\n",
    "# print gof0,gof02\n",
    "chi_sq_mulens,_=chisquare(WFIRST_data[:,1],f_exp=model_in_magnitude0)"
   ]
  },
  {
   "cell_type": "code",
   "execution_count": 13,
   "metadata": {},
   "outputs": [
    {
     "data": {
      "image/png": "[encoded data removed]",
      "text/plain": [
       "<matplotlib.figure.Figure at 0x11099edd0>"
      ]
     },
     "metadata": {},
     "output_type": "display_data"
    }
   ],
   "source": [
    "###Just to compare the two models, if you want to see the difference.\n",
    "plt.plot(times[1:], model_in_magnitude)\n",
    "plt.plot(times, model_in_magnitude0)\n",
    "plt.xlim(2460980,2460990)\n",
    "plt.gca().invert_yaxis()\n",
    "plt.show()\n"
   ]
  },
  {
   "cell_type": "code",
   "execution_count": 14,
   "metadata": {},
   "outputs": [
    {
     "name": "stdout",
     "output_type": "stream",
     "text": [
      "Total Runtime: 0:00:42.622321\n"
     ]
    }
   ],
   "source": [
    "end_time = datetime.now()\n",
    "print('Total Runtime: {0}'.format(end_time - start_time))\n",
    "t= format(end_time - start_time)\n",
    "(h, m, s) = t.split(':')\n",
    "hours_to_run = float(h) + float(m) / 60 + float(s) / 3600"
   ]
  },
  {
   "cell_type": "code",
   "execution_count": 15,
   "metadata": {
    "collapsed": true
   },
   "outputs": [],
   "source": [
    "ModelID_mlm= 'WFIRST_1827.dat_MulensModel' #Model ID containing both target ID and solution number e.g. [target]_[solution]\n",
    "t0_mlm = 0#mlm_event.model.parameters.t_0 #Time of peak, t0 [days] - priority\n",
    "sig_t0_mlm = 'None' #Uncertainty in t0 [days] - priority\n",
    "tE_mlm = 0#mlm_event.model.parameters.t_E #Einstein crossing time, tE [days] - priority\n",
    "sig_tE_mlm = 'None' #Uncertainty in tE [days] - priority\n",
    "u0_mlm = 0#mlm_event.model.parameters.u_0 #Minimum impact parameter, u0 [normalised by θE] - priority\n",
    "sig_u0_mlm = 'None' #Uncertainty in u0 - priority\n",
    "rho_mlm = 0#mlm_event.model.parameters.rho #Angular source size parameter, rho\n",
    "sig_rho_mlm = 'None' #Uncertainty on rho\n",
    "piEE_mlm = 'None'  #Parallax parameter πE,E\n",
    "sig_piEE_mlm = 'None'  #Uncertainty on πE,E\n",
    "piEN_mlm = 'None'  #Parallax parameter πE,N\n",
    "sig_piEN_mlm = 'None'  #Uncertainty on πE,N\n",
    "fs_mlm = 'None' #Source flux, fs [counts/s] - priority\n",
    "sig_fs_mlm = 'None' #Uncertainty in fs [counts/s] - priority\n",
    "fb_mlm = 'None' #Blend flux, fb [counts/s] - priority\n",
    "sig_fb_mlm = 'None' #Uncertainty in fb [counts/s] - priority\n",
    "s_mlm = 0#mlm_event.model.parameters.s #Binary separation, s, [normalised by θE] - priority\n",
    "sig_s_mlm = 'None' #Uncertainty on s - priority\n",
    "q_mlm = 0#mlm_event.model.parameters.q #Mass ratio, q = M2/M1 - priority\n",
    "sig_q_mlm = 'None' #Uncertainty on q - priority\n",
    "alpha_mlm = 0#mlm_event.model.parameters.alpha #Angle of lens motion, alpha - priority\n",
    "sig_alpha_mlm = 'None' #Uncertainty on alpha - priority\n",
    "dsdt_mlm = 'None'  #Rate of change of s, ds/dt\n",
    "sig_dsdt_mlm = 'None'  #Uncertainty on ds/dt\n",
    "dadt_mlm =  'None' #Rate of change of alpha, dalpha/dt\n",
    "sig_dadt_mlm = 'None'  #Uncertainty on dalpha/dt\n",
    "t0_par_mlm = 'None'  #t0_par [days]\n",
    "chisq_mlm = chi_sq_mulens #Chi squared of the fitted model\n",
    "M1_mlm = 'None'  #Primary lens mass, M1 [Msolar]\n",
    "sig_M1_mlm = 'None'  #Uncertainty on M1 [Msolar]\n",
    "M2_mlm = 'None'  #Secondary lens mass, M2 [MJupiter] \n",
    "sig_M2_mlm = 'None'  #Uncertainty on M2 [MJupiter] \n",
    "DL_mlm = 'None'  #Distance to the lens, DL [kpc]\n",
    "sig_DL_mlm = 'None'  #Uncertainty on DL [kpc]\n",
    "DS_mlm = 'None'  #Distance to the source, DS [kpc]\n",
    "sig_DS_mlm = 'None'  #Uncertainty on DS [kpc]\n",
    "aperp_mlm = 'None'  #Projected separation of lens masses, aperp [AU]\n",
    "sig_aperp_mlm = 'None'  #Uncertainty on aperp [AU]\n",
    "t_fit_mlm = hours_to_run #Time taken to fit the lightcurve from data ingest to final output [hrs]"
   ]
  },
  {
   "cell_type": "code",
   "execution_count": 16,
   "metadata": {
    "collapsed": true
   },
   "outputs": [],
   "source": [
    "Class = 'GLplanet' #Classification\n",
    "f = open('/Users/meshkat/python/WFIRST/Microlensing/data_challenge/team_1.dat', 'a')\n",
    "f.write('\\n%s %s %s %s %s %s %s %s %s %s %s %s %s %s %s %s %s %s %s %s '\n",
    "          '%s %s %s %s %s %s %s %s %s %s %s %s %s %s %s %s %s %s %s %s %s' %\n",
    "        (ModelID_pl, Class, t0_pl, sig_t0_pl, tE_pl, sig_tE_pl, u0_pl, sig_u0_pl, rho_pl, sig_rho_pl, piEE_pl,\n",
    "         sig_piEE_pl, piEN_pl, sig_piEN_pl, fs_pl, sig_fs_pl, fb_pl, sig_fb_pl, s_pl, sig_s_pl, q_pl, sig_q_pl, \n",
    "         alpha_pl, sig_alpha_pl, dsdt_pl, sig_dsdt_pl, dadt_pl, sig_dadt_pl, t0_par_pl, chisq_pl, M1_pl, \n",
    "         sig_M1_pl, M2_pl, sig_M2_pl, DL_pl, sig_DL_pl, DS_pl, sig_DS_pl, aperp_pl, sig_aperp_pl, t_fit_pl))\n",
    "f.write('\\n%s %s %s %s %s %s %s %s %s %s %s %s %s %s %s %s %s %s %s %s '\n",
    "          '%s %s %s %s %s %s %s %s %s %s %s %s %s %s %s %s %s %s %s %s %s' %\n",
    "        (ModelID_mlm, Class, t0_mlm, sig_t0_mlm, tE_mlm, sig_tE_mlm, u0_mlm, sig_u0_mlm, rho_mlm, sig_rho_mlm, piEE_mlm,\n",
    "         sig_piEE_mlm, piEN_mlm, sig_piEN_mlm, fs_mlm, sig_fs_mlm, fb_mlm, sig_fb_mlm, s_mlm, sig_s_mlm, q_mlm, sig_q_mlm, \n",
    "         alpha_mlm, sig_alpha_mlm, dsdt_mlm, sig_dsdt_mlm, dadt_mlm, sig_dadt_mlm, t0_par_mlm, chisq_mlm, M1_mlm, \n",
    "         sig_M1_mlm, M2_mlm, sig_M2_mlm, DL_mlm, sig_DL_mlm, DS_mlm, sig_DS_mlm, aperp_mlm, sig_aperp_mlm, t_fit_mlm))\n",
    "f.close()"
   ]
  },
  {
   "cell_type": "code",
   "execution_count": 4,
   "metadata": {
    "collapsed": true
   },
   "outputs": [],
   "source": [
    "from muLAn import mulan"
   ]
  },
  {
   "cell_type": "code",
   "execution_count": 6,
   "metadata": {},
   "outputs": [
    {
     "name": "stdout",
     "output_type": "stream",
     "text": [
      "\u001b[1m\u001b[34m                 _       ___        \n",
      "                | |     / _ \\       \n",
      " _ __ ___  _   _| |    / /_\\ \\_ __  \n",
      "| '_ ` _ \\| | | | |    |  _  | '_ \\ \n",
      "| | | | | | |_| | |____| | | | | | |\n",
      "|_| |_| |_|\\__,_\\_____/\\_| |_/_| |_|\n",
      "\u001b[0m\u001b[36mgravitational MICROlensing Analysis code\u001b[0m\n",
      "\u001b[36mVersion 0.8.36\u001b[0m\n",
      "\n",
      "\u001b[1m\u001b[31m[muLAn] Load parameter files...\u001b[0m\n",
      "\u001b[32mParameter files have been read and checked.\u001b[0m\n",
      "\n",
      "\u001b[1mEvent details\u001b[0m\n",
      "\n",
      "    OBXXXXXX\n",
      "\n",
      "    Original equatorial coordinates:    17h52m38.11s -28d33m06.9s\n",
      "    Equatorial coordinates [deg]:       268.158792   -28.551917\n",
      "    Ecliptic coordinates [deg]:         268.372422    -5.121410\n",
      "    Galactic coordinates [deg]:           1.121057    -1.120487\n",
      "\n",
      "\u001b[1mModelling options\u001b[0m\n",
      "\n",
      "    Models for EARTH observations:\n",
      "      PSPL 0.000000 --> 10000.000000\n",
      "      ESBLauto 7220.000000 --> 7226.000000\n",
      "\n",
      "    Minimisation: GRID_DMCMC\n",
      "\n",
      "\u001b[1mList of parameters\u001b[0m\n",
      "    q      on a grid from 0.000100 to 0.001000 (3 points)\n",
      "    s      on a grid from 1.080000 to 5.000000 (5 points)\n",
      "    tE     28.000000 chosen within 27.999000 --> 28.001000\n",
      "    rho    0.001000 (fixed)\n",
      "    piEN   0.000000 (fixed)\n",
      "    piEE   0.000000 (fixed)\n",
      "    t0     7223.335000 chosen within 7223.334990 --> 7223.335010\n",
      "    u0     0.010000 chosen within 0.009900 --> 0.010100\n",
      "    alpha  on a grid from 6.280000 to 6.280000 (60 points)\n",
      "    tp     7223.0\n",
      "    tb   7223.0\n",
      "\n",
      "\u001b[1mFit parameters\u001b[0m\n",
      "\n",
      "    Markov Chain Monte Carlo controls:\n",
      "      6 chains in parallel\n",
      "      Length of each chain: 1000\n",
      "      Maximum number of threads: 1\n",
      "\n",
      "    Plot options:\n",
      "      fitflux: 7222-7224.5/100/,\n",
      "\n",
      "\u001b[1m\u001b[31m[muLAn] Load data\u001b[0m\n"
     ]
    },
    {
     "ename": "IndexError",
     "evalue": "tuple index out of range",
     "output_type": "error",
     "traceback": [
      "\u001b[0;31m---------------------------------------------------------------------------\u001b[0m",
      "\u001b[0;31mIndexError\u001b[0m                                Traceback (most recent call last)",
      "\u001b[0;32m<ipython-input-6-cebf3de5fa8a>\u001b[0m in \u001b[0;36m<module>\u001b[0;34m()\u001b[0m\n\u001b[0;32m----> 1\u001b[0;31m \u001b[0mmulan\u001b[0m\u001b[0;34m.\u001b[0m\u001b[0mrun\u001b[0m\u001b[0;34m(\u001b[0m\u001b[0;34m)\u001b[0m\u001b[0;34m\u001b[0m\u001b[0m\n\u001b[0m",
      "\u001b[0;32m/Users/meshkat/python/muLAn/muLAn/mulan.pyc\u001b[0m in \u001b[0;36mrun\u001b[0;34m(options)\u001b[0m\n\u001b[1;32m    123\u001b[0m \u001b[0;34m\u001b[0m\u001b[0m\n\u001b[1;32m    124\u001b[0m     \u001b[0;31m# Run the modeling code\u001b[0m\u001b[0;34m\u001b[0m\u001b[0;34m\u001b[0m\u001b[0m\n\u001b[0;32m--> 125\u001b[0;31m     \u001b[0mrun_mulan\u001b[0m\u001b[0;34m(\u001b[0m\u001b[0mpath_event\u001b[0m\u001b[0;34m,\u001b[0m \u001b[0moptions\u001b[0m\u001b[0;34m)\u001b[0m\u001b[0;34m\u001b[0m\u001b[0m\n\u001b[0m\u001b[1;32m    126\u001b[0m \u001b[0;34m\u001b[0m\u001b[0m\n",
      "\u001b[0;32m/Users/meshkat/python/muLAn/muLAn/mulan.pyc\u001b[0m in \u001b[0;36mrun_mulan\u001b[0;34m(path_event, options)\u001b[0m\n\u001b[1;32m     92\u001b[0m \u001b[0;31m# --------------------------------------------------------------------\u001b[0m\u001b[0;34m\u001b[0m\u001b[0;34m\u001b[0m\u001b[0m\n\u001b[1;32m     93\u001b[0m \u001b[0;32mdef\u001b[0m \u001b[0mrun_mulan\u001b[0m\u001b[0;34m(\u001b[0m\u001b[0mpath_event\u001b[0m\u001b[0;34m,\u001b[0m \u001b[0moptions\u001b[0m\u001b[0;34m)\u001b[0m\u001b[0;34m:\u001b[0m\u001b[0;34m\u001b[0m\u001b[0m\n\u001b[0;32m---> 94\u001b[0;31m     \u001b[0msequential\u001b[0m\u001b[0;34m.\u001b[0m\u001b[0mrun_sequence\u001b[0m\u001b[0;34m(\u001b[0m\u001b[0mpath_event\u001b[0m\u001b[0;34m,\u001b[0m \u001b[0moptions\u001b[0m\u001b[0;34m)\u001b[0m\u001b[0;34m\u001b[0m\u001b[0m\n\u001b[0m\u001b[1;32m     95\u001b[0m \u001b[0;31m# ----------------------------------------------------------------------\u001b[0m\u001b[0;34m\u001b[0m\u001b[0;34m\u001b[0m\u001b[0m\n\u001b[1;32m     96\u001b[0m \u001b[0;32mdef\u001b[0m \u001b[0msortmodels\u001b[0m\u001b[0;34m(\u001b[0m\u001b[0;34m)\u001b[0m\u001b[0;34m:\u001b[0m\u001b[0;34m\u001b[0m\u001b[0m\n",
      "\u001b[0;32m/Users/meshkat/python/muLAn/muLAn/packages/sequential.pyc\u001b[0m in \u001b[0;36mrun_sequence\u001b[0;34m(path_event, options)\u001b[0m\n\u001b[1;32m    370\u001b[0m                 \u001b[0mtime_serie\u001b[0m\u001b[0;34m.\u001b[0m\u001b[0mupdate\u001b[0m\u001b[0;34m(\u001b[0m\u001b[0;34m{\u001b[0m\u001b[0;34m'seeing'\u001b[0m\u001b[0;34m:\u001b[0m \u001b[0mfile\u001b[0m\u001b[0;34m[\u001b[0m\u001b[0;34m'seeing'\u001b[0m\u001b[0;34m]\u001b[0m\u001b[0;34m}\u001b[0m\u001b[0;34m)\u001b[0m\u001b[0;34m\u001b[0m\u001b[0m\n\u001b[1;32m    371\u001b[0m                 \u001b[0mtime_serie\u001b[0m\u001b[0;34m.\u001b[0m\u001b[0mupdate\u001b[0m\u001b[0;34m(\u001b[0m\u001b[0;34m{\u001b[0m\u001b[0;34m'background'\u001b[0m\u001b[0;34m:\u001b[0m \u001b[0mfile\u001b[0m\u001b[0;34m[\u001b[0m\u001b[0;34m'background'\u001b[0m\u001b[0;34m]\u001b[0m\u001b[0;34m}\u001b[0m\u001b[0;34m)\u001b[0m\u001b[0;34m\u001b[0m\u001b[0m\n\u001b[0;32m--> 372\u001b[0;31m                 \u001b[0mtime_serie\u001b[0m\u001b[0;34m.\u001b[0m\u001b[0mupdate\u001b[0m\u001b[0;34m(\u001b[0m\u001b[0;34m{\u001b[0m\u001b[0;34m'DsN'\u001b[0m\u001b[0;34m:\u001b[0m \u001b[0mnp\u001b[0m\u001b[0;34m.\u001b[0m\u001b[0mfull\u001b[0m\u001b[0;34m(\u001b[0m\u001b[0mdates\u001b[0m\u001b[0;34m.\u001b[0m\u001b[0mshape\u001b[0m\u001b[0;34m[\u001b[0m\u001b[0;36m0\u001b[0m\u001b[0;34m]\u001b[0m\u001b[0;34m,\u001b[0m \u001b[0;36m0\u001b[0m\u001b[0;34m,\u001b[0m \u001b[0mdtype\u001b[0m\u001b[0;34m=\u001b[0m\u001b[0;34m'f8'\u001b[0m\u001b[0;34m)\u001b[0m\u001b[0;34m}\u001b[0m\u001b[0;34m)\u001b[0m\u001b[0;34m\u001b[0m\u001b[0m\n\u001b[0m\u001b[1;32m    373\u001b[0m                 \u001b[0mtime_serie\u001b[0m\u001b[0;34m.\u001b[0m\u001b[0mupdate\u001b[0m\u001b[0;34m(\u001b[0m\u001b[0;34m{\u001b[0m\u001b[0;34m'DsE'\u001b[0m\u001b[0;34m:\u001b[0m \u001b[0mnp\u001b[0m\u001b[0;34m.\u001b[0m\u001b[0mfull\u001b[0m\u001b[0;34m(\u001b[0m\u001b[0mdates\u001b[0m\u001b[0;34m.\u001b[0m\u001b[0mshape\u001b[0m\u001b[0;34m[\u001b[0m\u001b[0;36m0\u001b[0m\u001b[0;34m]\u001b[0m\u001b[0;34m,\u001b[0m \u001b[0;36m0\u001b[0m\u001b[0;34m,\u001b[0m \u001b[0mdtype\u001b[0m\u001b[0;34m=\u001b[0m\u001b[0;34m'f8'\u001b[0m\u001b[0;34m)\u001b[0m\u001b[0;34m}\u001b[0m\u001b[0;34m)\u001b[0m\u001b[0;34m\u001b[0m\u001b[0m\n\u001b[1;32m    374\u001b[0m                 \u001b[0mtime_serie\u001b[0m\u001b[0;34m.\u001b[0m\u001b[0mupdate\u001b[0m\u001b[0;34m(\u001b[0m\u001b[0;34m{\u001b[0m\u001b[0;34m'model'\u001b[0m\u001b[0;34m:\u001b[0m \u001b[0mnp\u001b[0m\u001b[0;34m.\u001b[0m\u001b[0mfull\u001b[0m\u001b[0;34m(\u001b[0m\u001b[0mdates\u001b[0m\u001b[0;34m.\u001b[0m\u001b[0mshape\u001b[0m\u001b[0;34m[\u001b[0m\u001b[0;36m0\u001b[0m\u001b[0;34m]\u001b[0m\u001b[0;34m,\u001b[0m \u001b[0;34m'0'\u001b[0m\u001b[0;34m,\u001b[0m \u001b[0mdtype\u001b[0m\u001b[0;34m=\u001b[0m\u001b[0;34m'S100'\u001b[0m\u001b[0;34m)\u001b[0m\u001b[0;34m}\u001b[0m\u001b[0;34m)\u001b[0m\u001b[0;34m\u001b[0m\u001b[0m\n",
      "\u001b[0;31mIndexError\u001b[0m: tuple index out of range"
     ]
    }
   ],
   "source": [
    "mulan.run()"
   ]
  },
  {
   "cell_type": "code",
   "execution_count": null,
   "metadata": {
    "collapsed": true
   },
   "outputs": [],
   "source": []
  }
 ],
 "metadata": {
  "kernelspec": {
   "display_name": "Python 2",
   "language": "python",
   "name": "python2"
  },
  "language_info": {
   "codemirror_mode": {
    "name": "ipython",
    "version": 2
   },
   "file_extension": ".py",
   "mimetype": "text/x-python",
   "name": "python",
   "nbconvert_exporter": "python",
   "pygments_lexer": "ipython2",
   "version": "2.7.13"
  }
 },
 "nbformat": 4,
 "nbformat_minor": 2
}
